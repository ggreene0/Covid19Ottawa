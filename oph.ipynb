{
 "cells": [
  {
   "cell_type": "markdown",
   "metadata": {},
   "source": [
    "Notebook to prototype/test update.py\n",
    "\n",
    "- OPH page => PDF link\n",
    "- PDF link => PDF file\n",
    "- PDF file => text\n",
    "- text => Table\n",
    "- Table => CSV"
   ]
  },
  {
   "cell_type": "code",
   "execution_count": 1,
   "metadata": {},
   "outputs": [],
   "source": [
    "import requests as rq\n",
    "\n",
    "from html.parser import HTMLParser\n",
    "\n",
    "from PyPDF4 import PdfFileReader as PDFR\n",
    "\n",
    "import os"
   ]
  },
  {
   "cell_type": "code",
   "execution_count": 2,
   "metadata": {},
   "outputs": [],
   "source": [
    "'''\n",
    "- Get page\n",
    "- Find PDF link\n",
    "'''\n",
    "\n",
    "OPH_url = 'https://www.ottawapublichealth.ca/en/reports-research-and-statistics/la-maladie-coronavirus-covid-19.aspx'\n",
    "\n",
    "req = rq.get(OPH_url)"
   ]
  },
  {
   "cell_type": "code",
   "execution_count": 3,
   "metadata": {},
   "outputs": [],
   "source": [
    "class PdfUrlParser(HTMLParser):\n",
    "    \n",
    "    def __init__(self):\n",
    "        super().__init__()\n",
    "        self.pdf_url = None\n",
    "    \n",
    "    def handle_starttag(self, tag, attrs):\n",
    "        for attr in attrs:\n",
    "            if self.pdf_url == None \\\n",
    "               and 'href' in attr[0] \\\n",
    "               and 'pdf' in attr[1]:\n",
    "                self.pdf_url = '/'.join(OPH_url.split('/')[:3]) + attr[1]\n",
    "                break\n",
    "                \n",
    "parser = PdfUrlParser()\n",
    "parser.feed(req.text)\n",
    "PDF_url = parser.pdf_url"
   ]
  },
  {
   "cell_type": "code",
   "execution_count": 4,
   "metadata": {},
   "outputs": [],
   "source": [
    "'''\n",
    "Fetch PDF\n",
    "'''\n",
    "pdfreq = rq.get(PDF_url)"
   ]
  },
  {
   "cell_type": "code",
   "execution_count": 5,
   "metadata": {},
   "outputs": [
    {
     "name": "stdout",
     "output_type": "stream",
     "text": [
      "./pdf/Web-PDF-COVID-2019-epi-update_20200425-ri8ri.pdf\n"
     ]
    }
   ],
   "source": [
    "PDF_file = './pdf/' + os.path.basename(PDF_url)\n",
    "print(PDF_file)\n",
    "with open(PDF_file, 'wb') as f:\n",
    "    f.write(pdfreq.content)"
   ]
  },
  {
   "cell_type": "code",
   "execution_count": 6,
   "metadata": {},
   "outputs": [],
   "source": [
    "# creating a pdf reader object\n",
    "fr = PDFR(PDF_file)\n",
    "\n",
    "text = ''\n",
    "\n",
    "for pgn in range(fr.numPages):\n",
    "    pg = fr.getPage(pgn) \n",
    "    text = text + pg.extractText()\n",
    "\n",
    "'''\n",
    "Strip all newlines\n",
    "(random from one PDF to another)\n",
    "'''\n",
    "text = text.replace('\\n', '')\n"
   ]
  },
  {
   "cell_type": "code",
   "execution_count": 7,
   "metadata": {},
   "outputs": [
    {
     "data": {
      "text/plain": [
       "(9938, 11975)"
      ]
     },
     "execution_count": 7,
     "metadata": {},
     "output_type": "execute_result"
    }
   ],
   "source": [
    "start = text.index('Data Table for Figures 1 and 2')\n",
    "end = text.index('Data Table for Figure 3')\n",
    "start, end"
   ]
  },
  {
   "cell_type": "code",
   "execution_count": 8,
   "metadata": {},
   "outputs": [],
   "source": [
    "'''\n",
    "Need to get around some ugliness where the \n",
    "PDF reader ends up with dates split across lines\n",
    "'''\n",
    "snippet = text[start:end].split()"
   ]
  },
  {
   "cell_type": "code",
   "execution_count": 9,
   "metadata": {},
   "outputs": [
    {
     "data": {
      "text/plain": [
       "334"
      ]
     },
     "execution_count": 9,
     "metadata": {},
     "output_type": "execute_result"
    }
   ],
   "source": [
    "len(snippet)"
   ]
  },
  {
   "cell_type": "code",
   "execution_count": 10,
   "metadata": {},
   "outputs": [],
   "source": [
    "class Table(object):\n",
    "    def __init__(self):\n",
    "        self.row = ['Date,Total,Daily']\n",
    "        \n",
    "    def add_row(self, date, total, daily):\n",
    "        row = '%s,%s,%s' % (date, total, daily)\n",
    "        self.row.append(row)\n",
    "        \n",
    "    def is_date(self, line):\n",
    "        # Date format is like 2/19/2020\n",
    "        rc = False\n",
    "        mdy = line.split('/')\n",
    "        if len(mdy) == 3 \\\n",
    "           and all( [n.isnumeric() for n in mdy] ):\n",
    "           rc = True\n",
    "        return rc\n",
    "        \n",
    "    def process(self, slice):\n",
    "        for i in range(len(slice)):\n",
    "            if i + 2 < len(slice) \\\n",
    "               and self.is_date(slice[i]) \\\n",
    "               and slice[i+1].isnumeric() \\\n",
    "               and slice[i+2].isnumeric():\n",
    "                self.add_row(slice[i], slice[i+1], slice[i+2])\n",
    "\n",
    "table = Table()\n",
    "table.process(snippet)"
   ]
  },
  {
   "cell_type": "code",
   "execution_count": 11,
   "metadata": {},
   "outputs": [
    {
     "data": {
      "text/plain": [
       "['Date,Total,Daily',\n",
       " '2/19/2020,0,0',\n",
       " '2/20/2020,0,0',\n",
       " '2/21/2020,0,0',\n",
       " '2/22/2020,0,0']"
      ]
     },
     "execution_count": 11,
     "metadata": {},
     "output_type": "execute_result"
    }
   ],
   "source": [
    "table.row[:5]"
   ]
  },
  {
   "cell_type": "code",
   "execution_count": 12,
   "metadata": {},
   "outputs": [
    {
     "data": {
      "text/plain": [
       "['4/20/2020,985,18',\n",
       " '4/21/2020,1002,48',\n",
       " '4/22/2020,1044,39',\n",
       " '4/23/2020,1060,48',\n",
       " '4/24/2020,1060,21']"
      ]
     },
     "execution_count": 12,
     "metadata": {},
     "output_type": "execute_result"
    }
   ],
   "source": [
    "table.row[-5:]"
   ]
  },
  {
   "cell_type": "code",
   "execution_count": 13,
   "metadata": {},
   "outputs": [],
   "source": [
    "'''\n",
    "Ready to write the csv!\n",
    "'''\n",
    "\n",
    "with open('timeseries/ottawa_cases.csv', 'w')as csv:\n",
    "    for line in table.row:\n",
    "        csv.write(line + '\\n')"
   ]
  }
 ],
 "metadata": {
  "kernelspec": {
   "display_name": "Python 3",
   "language": "python",
   "name": "python3"
  },
  "language_info": {
   "name": ""
  }
 },
 "nbformat": 4,
 "nbformat_minor": 2
}
